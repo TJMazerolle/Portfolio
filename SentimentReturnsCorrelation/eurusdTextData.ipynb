{
 "cells": [
  {
   "cell_type": "code",
   "execution_count": 8,
   "metadata": {},
   "outputs": [],
   "source": [
    "from ScrappingFunctions import get_stock_links, get_article_texts\n",
    "from nltk.sentiment import SentimentIntensityAnalyzer\n",
    "import pandas as pd\n",
    "import numpy as np"
   ]
  },
  {
   "cell_type": "code",
   "execution_count": 9,
   "metadata": {},
   "outputs": [],
   "source": [
    "msft_links = get_stock_links(\"goog\", limit = 500)\n",
    "msft_text = get_article_texts(msft_links, tracker=False)\n",
    "msft_text = np.array(msft_text)\n",
    "msft_data_dict = {\n",
    "    \"Link\": msft_links,\n",
    "    \"Date\": msft_text[:,1],\n",
    "    \"Text\": msft_text[:,0]\n",
    "}\n",
    "msft_data = pd.DataFrame(msft_data_dict).dropna(subset = [\"Text\"])"
   ]
  },
  {
   "cell_type": "code",
   "execution_count": 10,
   "metadata": {},
   "outputs": [],
   "source": [
    "sid = SentimentIntensityAnalyzer()\n",
    "msft_data[\"Sentiment\"] = [sid.polarity_scores(sentence)['compound'] for sentence in msft_data[\"Text\"]]\n",
    "msft_data.to_csv('googArticleSentiments.csv', index=False)"
   ]
  }
 ],
 "metadata": {
  "kernelspec": {
   "display_name": "CSCN8010_classic_ml",
   "language": "python",
   "name": "python3"
  },
  "language_info": {
   "codemirror_mode": {
    "name": "ipython",
    "version": 3
   },
   "file_extension": ".py",
   "mimetype": "text/x-python",
   "name": "python",
   "nbconvert_exporter": "python",
   "pygments_lexer": "ipython3",
   "version": "3.11.7"
  }
 },
 "nbformat": 4,
 "nbformat_minor": 2
}
