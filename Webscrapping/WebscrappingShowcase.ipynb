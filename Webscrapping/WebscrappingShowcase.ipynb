{
 "cells": [
  {
   "cell_type": "markdown",
   "metadata": {},
   "source": [
    "# Webscrapping investing.com\n",
    "\n",
    "#### By Troy Mazerolle\n",
    "\n",
    "The following notebook outlines how to scrap articles from the main news page of investing.com.  Following the link https://www.investing.com/news/stock-market-news/X, where X is the page number, we can extract a list of links from each page and then extract the text from each article that the link contains.\n",
    "\n",
    "For more information about the functions used from ScrappingFunctions, the GitHub link to the page is [here](https://github.com/TJMazerolle/InvestingComWebscrapping/blob/main/ScrappingFunctions.py).\n",
    "\n",
    "Note that the results seen below are from running the script as of December 21, 2023."
   ]
  },
  {
   "cell_type": "code",
   "execution_count": 1,
   "metadata": {},
   "outputs": [],
   "source": [
    "from ScrappingFunctions import *\n",
    "import numpy as np\n",
    "import pandas as pd"
   ]
  },
  {
   "cell_type": "markdown",
   "metadata": {},
   "source": [
    "## Webscrapping Stock News Articles\n",
    "\n",
    "Note that since the following chunk uses Seleneum, to run the chunk below you will need geckodriver.exe in the same folder that wherever you run the script is in.  Also, the script only has the option for Firefox as the browser it uses, so Firefox must be installed.\n",
    "\n",
    "First, we use get_training_links(n) to get the list of training links from the first n pages of https://www.investing.com/news/stock-market-news/X, where X represents all pages between 1 and n.  In the case below, we set n = 2 to get the links from the first two pages, and output the first five links in the list."
   ]
  },
  {
   "cell_type": "code",
   "execution_count": 2,
   "metadata": {},
   "outputs": [
    {
     "name": "stdout",
     "output_type": "stream",
     "text": [
      "Number of Articles: 54\n"
     ]
    },
    {
     "data": {
      "text/plain": [
       "['https://www.investing.com/news/stock-market-news/australia-stocks-lower-at-close-of-trade-spasx-200-down-003-3262077',\n",
       " 'https://www.investing.com/news/stock-market-news/tencent-netease-plummet-as-china-flags-more-online-gaming-curbs-3262075',\n",
       " 'https://www.investing.com/news/stock-market-news/tesla-launches-shanghai-megapack-battery-project--chinese-state-media-3262074',\n",
       " 'https://www.investing.com/jp.php?v2=MXFjPWYxYTo-aD0yMmM0NDdlZDkyNDQ1MyQ0ZjsxN35lIz43YDhiJGVtPSNkODRuPk0_YDc_NSNnMTdlNXRmJTF2Yz1mN2E7Pm09NTJ3NHU3a2Q9MjA0IDNyNDo=',\n",
       " 'https://www.investing.com/news/stock-market-news/boeings-first-dreamliner-delivery-to-china-since-2019-to-land-friday-3262073']"
      ]
     },
     "metadata": {},
     "output_type": "display_data"
    }
   ],
   "source": [
    "training_links = get_training_links(2)\n",
    "print(\"Number of Articles:\", len(training_links))\n",
    "display(training_links[:5])"
   ]
  },
  {
   "cell_type": "markdown",
   "metadata": {},
   "source": [
    "Next, we use get_article_texts(training_links, tracker=False) to take the list of links and extract the article text and the corresponding dates of each article.  We will also output the first five article texts to showcase the results."
   ]
  },
  {
   "cell_type": "code",
   "execution_count": 3,
   "metadata": {},
   "outputs": [
    {
     "data": {
      "text/plain": [
       "[['Investing.com – Australia stocks were lower after the close on Friday, as losses in the Consumer Staples, Industrials and Utilities sectors led shares lower.\\nAt the close in Sydney, the S&P/ASX 200 declined 0.03%.\\nThe best performers of the session on the S&P/ASX 200 were  Austal Ltd  (ASX:ASB), which rose 6.92% or 0.12 points to trade at 1.85 at the close. Meanwhile,  Pointsbet Holdings Ltd  (ASX:PBH) added 5.62% or 0.05 points to end at 0.94 and Lynas Rare Earths Ltd (ASX:LYC) was up 3.53% or 0.24 points to 7.04 in late trade.\\nThe worst performers of the session were Omni Bridgeway Ltd (ASX:OBL), which fell 5.13% or 0.07 points to trade at 1.29 at the close. EML Payments Ltd (ASX:EML) declined 3.66% or 0.03 points to end at 0.79 and Abacus Property Group (ASX:ABG) was down 2.90% or 0.04 points to 1.17.\\nRising stocks outnumbered declining ones on the Sydney Stock Exchange by 593 to 558 and 367 ended unchanged.\\nShares in Omni Bridgeway Ltd (ASX:OBL) fell to 5-year lows; falling 5.13% or 0.07 to 1.29. \\nThe S&P/ASX 200 VIX, which measures the implied volatility of S&P/ASX 200 options, was down 2.74% to 9.80.\\nGold Futures for February delivery was up 0.47% or 9.70 to $2,061.00 a troy ounce. Elsewhere in commodities trading, Crude oil for delivery in February rose 0.83% or 0.61 to hit $74.50 a barrel, while the February Brent oil contract rose 0.79% or 0.63 to trade at $80.02 a barrel.\\nAUD/USD was unchanged 0.34% to 0.68, while AUD/JPY fell 0.09% to 96.57.\\nThe US Dollar Index Futures was up 0.04% at 101.52.',\n",
       "  'Dec 22, 2023'],\n",
       " [\"Investing.com-- Shares of Chinese gaming giant Tencent and smaller peer Netease fell sharply on Friday after authorities unveiled more regulations aimed at curbing player spending on online gaming.\\nTencent Holdings Ltd (HK:0700)- the world's largest video game developer- slid 7.2% in Hong Kong trade, while NetEase Inc (HK:9999) slumped more than 12%. The two were among the worst performers on the Hang Seng index, which shed 0.2%.\\nThe National Press and Publication Administration (NPPA)- the entity responsible for licensing and regulating video games in China- said it will impose spending limits on online games, and will require operators to clearly present them within their games.\\nThe agency also said it will ban online game operators from including inductive rewards, which it alleged misguided consumers into spending more time and money in games.\\nThe proposed rules come as the latest round of crackdowns against online gaming by Chinese authorities, who have repeatedly cited concerns over videogame and internet addiction in the country’s youth.\\nBut the new curbs also clash with earlier signals from China that it will ease up on restrictions against its internet giants, in a bid to spur economic growth in the country.\\nChina’s videogame industry saw some signs of recovery this year after an over year-long crackdown that began in 2021. The NPPA had frozen the approval of new game releases for eight months, but had again begun approving new games this year.\\nTencent clocked some growth in revenues from gaming in the third quarter, although a bulk of this came from the international market. Revenue from Value Added Services- which includes microtransactions in videogames, only increased 4% from the prior quarter, and 10% from the prior year.\\nNetease- whose revenue comes almost entirely from online games- saw a 11.6% year-on-year increase in revenue in the third quarter.\\nRevenue growth in both firms has remained largely subdued this year amid sluggish economic trends in China. A slowdown in discretionary spending kept spending on online games largely muted.\\nChina slid further into disinflationary territory in November, as a post-COVID economic rebound failed to materialize this year. The trend has raised concerns over weak consumer spending in the country, while Beijing has remained largely conservative in rolling out more economic support.\\nUpgrade your investing with our groundbreaking, AI-powered InvestingPro+ stock picks. Use coupon INVSPRO2024 to avail a limited time discount on our Pro and Pro+ subscription plans. Click here to know more, and don't forget to use the discount code when checking out!\",\n",
       "  'Dec 21, 2023'],\n",
       " [\"BEIJING/SHANGHAI (Reuters) -Tesla on Friday launched its new megapack battery manufacturing plant in Shanghai with a ceremony for the purchase of the land for the project, Chinese state media reported. The project is capable of producing 10,000 megapacks per annum, and the ceremony was held in Shanghai, the official Xinhua News Agency reported. Tesla (NASDAQ:TSLA) did not immediately respond to a request for comment. Construction on the new project is scheduled to begin in the first quarter of 2024 with production starting in the fourth quarter, the report added, suggesting a slower-than-expected rollout of the powerful battery project. \\nTesla said in April that it would start construction in the third-quarter, with production expected to begin in the second quarter of next year. The U.S. electric vehicle manufacturer's gigafactory in Shanghai is producing at an annual capacity of 1.1 million units. Tesla has yet to obtain approval from regulators on further expanding the capacity for EVs in Shanghai.\",\n",
       "  'Dec 21, 2023'],\n",
       " [None, None],\n",
       " ['(Reuters) - Boeing (NYSE:BA)\\'s first direct delivery of a 787 Dreamliner to China since 2019 is set to land in Shanghai on Friday, a step that could hasten the end of China\\'s freeze on deliveries of the firm\\'s profitable 737 MAX after more than four years. Privately owned Chinese carrier Juneyao Airlines on Thursday took delivery of the 787-9 aircraft, which Boeing said then departed for China from Everett Paine Field in Washington state.  The flight is set to land in Shanghai around 3:30 p.m. local time (0730 GMT), the airline said. China suspended most orders and deliveries of Boeing planes in 2019 after the 737 MAX was grounded worldwide following two fatal crashes. A restart of MAX deliveries would represent a reset of Boeing\\'s relationship with China and create an opportunity for the company to offload dozens of planes in its inventory, and pave the way for a larger breakthrough in deliveries and orders. The company expects China to account for 20% of the world\\'s aircraft demands through to 2042. Boeing last delivered a leased Dreamliner plane to a Chinese customer in 2021, but no 787s have been handed over directly to Chinese airlines since November 2019. Analysts had forecast the resumption of Dreamliner deliveries to China after consultancy AAP/AIR this month reported preparatory flight activities for a 787 designated for Juneyao Airlines, registered as B-20EQ. Twelve of the 60 undelivered 787s in Boeing\\'s inventory are dedicated for Chinese operators, analysts Jefferies said. Boeing\\'s business with Chinese airlines could be affected by the political ties between Washington and Beijing, which have recently improved.  Last month, U.S. President Joe Biden and Chinese President Xi Jinping held their first face-to-face talks in a year, and on Thursday the top U.S. military officer spoke to his Chinese counterpart in the first such conversation in over a year. MAX PROGRESS On Wednesday, trade publication The Air Current said Boeing had this month won a key clearance from regulator the Civil Aviation Administration of China (CAAC) allowing the planemaker to prepare MAX aircraft for delivery. The safety bans have been lifted as existing MAX planes are flying inside China, but new deliveries have remained on hold. The CAAC\\'s deputy head on Dec. 8 told a Boeing executive in Beijing the planemaker was welcome to deepen its development in the Chinese market, Reuters reported. The Air Current, citing unidentified sources, said the regulator\\'s clearance was granted that day. Individual MAX deliveries to China still need approval from China\\'s National Development and Reform Commission (NDRC), the Air Current report said. Boeing told Reuters it is ready to deliver to customers \"when that time comes\". The CAAC and NDRC did not respond to requests for comment. A 737 MAX designated for China Southern Airlines flew from Boeing Field in Seattle to Boeing\\'s nearby facility in Moses Lake, Washington, and back on Wednesday afternoon, according to data from flight tracking website FlightRadar24. \\nAnalysts from Jefferies and Deutsche Bank said in investor notes that it appeared to be a customer acceptance flight - a test flight operated by an airline pilot that occurs before delivery. MAX deliveries to China could provide some upside to Boeing\\'s $10 billion free cash flow target for 2025-2026, as that projection did not factor in potential deliveries to China, analysts say.',\n",
       "  'Dec 21, 2023']]"
      ]
     },
     "metadata": {},
     "output_type": "display_data"
    }
   ],
   "source": [
    "training_text = get_article_texts(training_links, tracker=False)\n",
    "display(training_text[:5])"
   ]
  },
  {
   "cell_type": "markdown",
   "metadata": {},
   "source": [
    "Lastly, the data can be formatted and stored in a dataframe."
   ]
  },
  {
   "cell_type": "code",
   "execution_count": 4,
   "metadata": {},
   "outputs": [
    {
     "data": {
      "text/html": [
       "<div>\n",
       "<style scoped>\n",
       "    .dataframe tbody tr th:only-of-type {\n",
       "        vertical-align: middle;\n",
       "    }\n",
       "\n",
       "    .dataframe tbody tr th {\n",
       "        vertical-align: top;\n",
       "    }\n",
       "\n",
       "    .dataframe thead th {\n",
       "        text-align: right;\n",
       "    }\n",
       "</style>\n",
       "<table border=\"1\" class=\"dataframe\">\n",
       "  <thead>\n",
       "    <tr style=\"text-align: right;\">\n",
       "      <th></th>\n",
       "      <th>Link</th>\n",
       "      <th>Date</th>\n",
       "      <th>Text</th>\n",
       "    </tr>\n",
       "  </thead>\n",
       "  <tbody>\n",
       "    <tr>\n",
       "      <th>0</th>\n",
       "      <td>https://www.investing.com/news/stock-market-ne...</td>\n",
       "      <td>Dec 22, 2023</td>\n",
       "      <td>Investing.com – Australia stocks were lower af...</td>\n",
       "    </tr>\n",
       "    <tr>\n",
       "      <th>1</th>\n",
       "      <td>https://www.investing.com/news/stock-market-ne...</td>\n",
       "      <td>Dec 21, 2023</td>\n",
       "      <td>Investing.com-- Shares of Chinese gaming giant...</td>\n",
       "    </tr>\n",
       "    <tr>\n",
       "      <th>2</th>\n",
       "      <td>https://www.investing.com/news/stock-market-ne...</td>\n",
       "      <td>Dec 21, 2023</td>\n",
       "      <td>BEIJING/SHANGHAI (Reuters) -Tesla on Friday la...</td>\n",
       "    </tr>\n",
       "    <tr>\n",
       "      <th>3</th>\n",
       "      <td>https://www.investing.com/jp.php?v2=MXFjPWYxYT...</td>\n",
       "      <td>None</td>\n",
       "      <td>None</td>\n",
       "    </tr>\n",
       "    <tr>\n",
       "      <th>4</th>\n",
       "      <td>https://www.investing.com/news/stock-market-ne...</td>\n",
       "      <td>Dec 21, 2023</td>\n",
       "      <td>(Reuters) - Boeing (NYSE:BA)'s first direct de...</td>\n",
       "    </tr>\n",
       "  </tbody>\n",
       "</table>\n",
       "</div>"
      ],
      "text/plain": [
       "                                                Link          Date   \n",
       "0  https://www.investing.com/news/stock-market-ne...  Dec 22, 2023  \\\n",
       "1  https://www.investing.com/news/stock-market-ne...  Dec 21, 2023   \n",
       "2  https://www.investing.com/news/stock-market-ne...  Dec 21, 2023   \n",
       "3  https://www.investing.com/jp.php?v2=MXFjPWYxYT...          None   \n",
       "4  https://www.investing.com/news/stock-market-ne...  Dec 21, 2023   \n",
       "\n",
       "                                                Text  \n",
       "0  Investing.com – Australia stocks were lower af...  \n",
       "1  Investing.com-- Shares of Chinese gaming giant...  \n",
       "2  BEIJING/SHANGHAI (Reuters) -Tesla on Friday la...  \n",
       "3                                               None  \n",
       "4  (Reuters) - Boeing (NYSE:BA)'s first direct de...  "
      ]
     },
     "metadata": {},
     "output_type": "display_data"
    }
   ],
   "source": [
    "training_text = np.array(training_text)\n",
    "text_data_dict = {\n",
    "    \"Link\": training_links,\n",
    "    \"Date\": training_text[:,1],\n",
    "    \"Text\": training_text[:,0]\n",
    "}\n",
    "text_data = pd.DataFrame(text_data_dict)\n",
    "display(text_data.head())"
   ]
  },
  {
   "cell_type": "markdown",
   "metadata": {},
   "source": [
    "Once we have the dataframe, we can save the data and use it for our own analysis, whatever that may be.\n",
    "\n",
    "## Webscrapping News Articles of Specific Stock\n",
    "\n",
    "To get news articles that pertain to a specific stock, we can use get_stock_links(search_term, limit = 100) to bring us to the page https://www.investing.com/search/?q={search_term}&tab=news, which displays news articles pertaining to the specific search term.  Ideally, search_term will be a stock symbol, such as MSFT in the example below.  Since the links are dynamically loaded into the webpage, we use the links = 100 argument to keep scrolling until there are at least 100 (or whatever we set limit to) links to extract from the page.  Once we have the links, we can go through the same process above to extract the text from each link and store all the data in a dataframe."
   ]
  },
  {
   "cell_type": "code",
   "execution_count": 5,
   "metadata": {},
   "outputs": [
    {
     "name": "stdout",
     "output_type": "stream",
     "text": [
      "Number of Articles: 106\n"
     ]
    },
    {
     "data": {
      "text/plain": [
       "['https://www.investing.com/news/stock-market-news/pulitzerwinning-authors-join-openai-microsoft-copyright-lawsuit-3261058',\n",
       " 'https://www.investing.com/news/stock-market-news/microsoft-shelves-windows-mixed-reality-feature-3261890',\n",
       " 'https://www.investing.com/news/stock-market-news/microsoft-ending-support-for-windows-10-could-send-240-million-pcs-to-landfills--report-3261916',\n",
       " 'https://www.investing.com/analysis/msft-breaking-resistance-137246',\n",
       " 'https://www.investing.com/analysis/msft-continues-buyback-frenzy-200466332']"
      ]
     },
     "metadata": {},
     "output_type": "display_data"
    },
    {
     "data": {
      "text/plain": [
       "[['By Blake Brittain (Reuters) - A group of 11 nonfiction authors have joined a lawsuit in Manhattan federal court that accuses OpenAI and Microsoft (NASDAQ:MSFT) of misusing books the authors have written to train the models behind OpenAI\\'s popular chatbot ChatGPT and other artificial-intelligence based software. The writers, including Pulitzer Prize winners Taylor Branch, Stacy Schiff and Kai Bird - who co-wrote the J. Robert Oppenheimer biography \"American Prometheus\" that was adapted into the hit film \"Oppenheimer\" this year - told the court on Tuesday that the companies infringed their copyrights by using their work to train OpenAI\\'s GPT large language models. Representatives for OpenAI and Microsoft did not immediately respond to requests for comment on Wednesday. \"The defendants are raking in billions from their unauthorized use of nonfiction books, and the authors of these books deserve fair compensation and treatment for it,\" the writers\\' attorney Rohit Nath said on Wednesday. Writer and Hollywood Reporter editor Julian Sancton first filed the proposed class-action lawsuit last month. The case is one of several that have been brought by groups of copyright owners including authors John Grisham, George R.R. Martin and Jonathan Franzen against OpenAI and other tech companies over the alleged misuse of their work in AI training.  The companies have denied the allegations. Sancton\\'s was the first author lawsuit against OpenAI to also name Microsoft as a defendant. The tech giant has invested billions of dollars in the artificial intelligence startup and integrated OpenAI\\'s systems into its products. The amended complaint filed on Monday said that OpenAI \"scraped\" the authors\\' works along with reams of other copyrighted material from the internet without permission to teach its GPT models how to respond to human text prompts. \\nThe lawsuit also said that Microsoft has been \"deeply involved\" in training and developing the models and is also liable for copyright infringement. The authors asked the court for an unspecified amount of monetary damages and an order for the companies to stop infringing their copyrights.',\n",
       "  'Dec 20, 2023'],\n",
       " ['(Reuters) - Microsoft (NASDAQ:MSFT) on Thursday discontinued the \"mixed reality\" feature for Windows through which some hardware devices and software could tap into augmented and virtual reality technologies. The company launched the feature in a Windows 10 update in 2017, and the mixed reality portal app allowed users to access the technology on their personal computers with the use of compatible VR headsets. Microsoft uses mixed reality to describe software that blends both augmented and virtual reality. Augmented reality overlays text, sounds, graphics and video on real-world images that users see in front of them, while virtual reality immerses the users in an artificial world by creating computer-generated experiences. \\n\"Windows mixed reality is deprecated and will be removed in a future release of Windows,\" Microsoft said. Business Insider reported last year the company scrapped plans for HoloLens 3, in a move that could spell the end of the augmented reality headset line in that form.',\n",
       "  'Dec 21, 2023'],\n",
       " ['By Akash Sriram (Reuters) -  Microsoft Corp  (NASDAQ:MSFT)\\'s plan to end support for Windows 10 operating system could result in about 240 million personal computers (PCs) being disposed, potentially adding to landfill waste, Canalys Research said.  The electronic waste from these PCs could weigh an estimated 480 million kilograms, equivalent to 320,000 cars.  While many PCs could remain functional for years post the end of OS support, Canalys warned demand for devices without security updates could be low. Microsoft announced a plan to provide security updates for Windows 10 devices until October 2028 for an undisclosed annual price. If the pricing structure for extended Windows 10 support mirrors past trends, migrating to newer PCs could be more cost-effective, increasing the number of older PCs heading to scrap, Canalys said. Microsoft aims to discontinue support for Windows 10 by October 2025. The next generation of the OS, anticipated to bring advanced artificial intelligence technology to PCs, could potentially boost the sluggish PC market. Microsoft did not immediately respond to a request for comment on the environmental impact of disposal of Windows 11-incompatible devices. Hard drives used in personal computers and data storage servers are recycled to gather materials for use in electric vehicle motors and even renewable power generation. \"Turning end-of-life computers into the magnets that power sustainable technologies like electric vehicles and wind turbines will help meet the rising global demand for electricity,\" said Noveon Magnetics Chief Commercial Officer Peter Afiuny. \\nAfiuny added hard drives are often discarded before they reach the end of their functional lifespan, creating an excess of rare earth magnetic material waste. Battery recycling firm Redwood (NYSE:RWT) Materials said batteries can be nearly infinitely recycled to recover metals such as lithium, cobalt, nickel and copper.',\n",
       "  'Dec 21, 2023'],\n",
       " ['MSFTIn a previous piece, I posted an analysis of Microsoft (MSFT), which, at the time, I thought was bullish with a good risk-return relationship.Back then, the stock was at $31. Yesterday it closed at $31.45. Target still remains $32,50 as previous important highs are going to be retested. My view on this stock is still bullish as long as it stays above $30.90. I think MSFT will accelerate toward $32.50 where it will take a pause. Long term, $28 is my stop and $30.90 is my short-term stop. Depending on your risk profile you could choose between those two. Longer-term target, of course, is much higher than $32.50, towards $42.Disclosure: None of the information or opinions expressed in this blog constitutes a solicitation for the purchase or sale of any security or other instrument. Nothing in this article constitutes investment advice and any recommendations that may be contained herein have not been based upon a consideration of the investment objectives, financial situation or particular needs of any specific recipient. Any purchase or sale activity in any securities or other instrument should be based upon your own analysis and conclusions.',\n",
       "  None],\n",
       " ['Microsoft (NASDAQ:MSFT) is up almost 2% today after the board announced the approval of a $40 billion stock buyback program and an 11% dividend increase. Microsoft is the most cash (& cash equivalent) rich company in the market and has been buying back its own stock for almost a decade.\\nStock buybacks are hitting record highs as companies with excessive amounts of cash on hand want to keep shareholders happy with short-term share appreciation. Apple (NASDAQ:AAPL) , Oracle (NYSE:ORCL) , and Microsoft rank amongst the largest stock repurchasers of 2019 so far.\\n\\nThrough the first half of the year, Apple bought back $42 billion in its shares, while Oracle repurchased $16.3 billion, and Microsoft purchased over $9 billion in its own shares. 2018 marked an all-time high for stock repurchases with a market total of over $800 billion stock buybacks.\\nAAPL has bought back roughly a quarter trillion dollars’ worth of its own stock over the past 5-years, while Oracle and Microsoft come in at over $70 billion in the same time frame.\\nThese are some of the most cash rich companies in the world, but are they putting their cash to good use?\\nProductive Use of Money\\nAre share buybacks the most productive use of funds for producing long term shareholder returns? There are a few sides to this coin and they are very circumstantial. There are three things that a company can do with the cash on their balance sheet, one is let it sit in some low interest earning account, be used as commercial paper, or be put in some other fixed income vehicle. This will have very little effect on a stock price because this is what is expected from a cash pile on a company’s balance sheet.\\nThe next thing that a company can do with extra cash is to invest in either organic developments like R&D or sales & marketing, or in a productive acquisition (full or partial). Cash used in this manner is typically the most advantageous for all stakeholders, as long as the investments have robust ROIs (return on investment). In an environment where valuations are high, acquisitions and R&D are more expensive than the projected returns. This avenue would not be the most productive use of cash.\\nThe final use of cash that I will discuss is giving it directly back to the shareholders through dividends and stock buybacks. This use of capital will boost short-term share prices, but will it have a long-term positive effect for shareholders? A consistent dividend is a sign that a company has matured and expects a reliable stream of income moving forward. Dividends are good for a stock stability if the firm is able to maintain its dividend yield.\\nStock repurchase programs will have the same short-term stock price boost as an additional dividend, but the difference is that it is not typically consistent and will only create shareholder value if the shares bought are undervalued. Buying back stock when the intrinsic worth of the stock is below its current price will deteriorate shareholder value.\\nBack to Microsoft \\nMicrosoft is trading at its all-time high right now and its forward P/E has been surging over the last 5 years as investors become more excited about Microsoft’s cloud platform, Azure. Should Microsoft be buying back its own relatively expensive stock, or should the company be investing more in its cloud platform? The firm could be using the cash to further consolidate the cloud market through savvy acquisition of small cloud firms.\\nLike I said, high valuations make acquisitions a less attractive play and valuations in the tech industry are slightly high currently. There is only so much money that a company can poor into its R&D department before they start losing marginal value.\\nThough, buying stock back at all-time highs doesn’t look great for long term shareholder value, especially when its forward P/E is the highest its been in over a decade.\\nTake Away\\nI am not a big fan of companies throwing their extra cash back at the shareholders when there is still a substantial amount of growth potential. In my opinion, these tech stocks should be focusing on advancing technology and in turn humanity, instead of being worried about short-term share price boosts.\\nStocks like AAPL and ORCL have shown little to no top or bottom-line growth this year but their stock price still seems to appreciate. This is primarily due to their stock buyback programs. Some of these tech companies use buybacks as merely a way to preserve their stock’s attractiveness.\\nThere is a time and place where stock buybacks are appropriate such as when the stock price is undervalued and there are no more productive uses for the money, but this can still be speculative.\\n \\n 5 Stocks Set to DoubleEach was hand-picked by a Zacks expert as the #1 favorite stock to gain +100% or more in 2020. Each comes from a different sector and has unique qualities and catalysts that could fuel exceptional growth.Most of the stocks in this report are flying under Wall Street radar, which provides a great opportunity to get in on the ground floor.Today, See These 5 Potential Home Runs >>\\n \\n  Apple Inc. (AAPL): Free Stock Analysis Report Oracle Corporation (ORCL): Free Stock Analysis Report Microsoft Corporation (MSFT): Free Stock Analysis Report Original post Zacks Investment Research',\n",
       "  None]]"
      ]
     },
     "metadata": {},
     "output_type": "display_data"
    },
    {
     "data": {
      "text/html": [
       "<div>\n",
       "<style scoped>\n",
       "    .dataframe tbody tr th:only-of-type {\n",
       "        vertical-align: middle;\n",
       "    }\n",
       "\n",
       "    .dataframe tbody tr th {\n",
       "        vertical-align: top;\n",
       "    }\n",
       "\n",
       "    .dataframe thead th {\n",
       "        text-align: right;\n",
       "    }\n",
       "</style>\n",
       "<table border=\"1\" class=\"dataframe\">\n",
       "  <thead>\n",
       "    <tr style=\"text-align: right;\">\n",
       "      <th></th>\n",
       "      <th>Link</th>\n",
       "      <th>Date</th>\n",
       "      <th>Text</th>\n",
       "    </tr>\n",
       "  </thead>\n",
       "  <tbody>\n",
       "    <tr>\n",
       "      <th>0</th>\n",
       "      <td>https://www.investing.com/news/stock-market-ne...</td>\n",
       "      <td>Dec 20, 2023</td>\n",
       "      <td>By Blake Brittain (Reuters) - A group of 11 no...</td>\n",
       "    </tr>\n",
       "    <tr>\n",
       "      <th>1</th>\n",
       "      <td>https://www.investing.com/news/stock-market-ne...</td>\n",
       "      <td>Dec 21, 2023</td>\n",
       "      <td>(Reuters) - Microsoft (NASDAQ:MSFT) on Thursda...</td>\n",
       "    </tr>\n",
       "    <tr>\n",
       "      <th>2</th>\n",
       "      <td>https://www.investing.com/news/stock-market-ne...</td>\n",
       "      <td>Dec 21, 2023</td>\n",
       "      <td>By Akash Sriram (Reuters) -  Microsoft Corp  (...</td>\n",
       "    </tr>\n",
       "    <tr>\n",
       "      <th>3</th>\n",
       "      <td>https://www.investing.com/analysis/msft-breaki...</td>\n",
       "      <td>None</td>\n",
       "      <td>MSFTIn a previous piece, I posted an analysis ...</td>\n",
       "    </tr>\n",
       "    <tr>\n",
       "      <th>4</th>\n",
       "      <td>https://www.investing.com/analysis/msft-contin...</td>\n",
       "      <td>None</td>\n",
       "      <td>Microsoft (NASDAQ:MSFT) is up almost 2% today ...</td>\n",
       "    </tr>\n",
       "  </tbody>\n",
       "</table>\n",
       "</div>"
      ],
      "text/plain": [
       "                                                Link          Date   \n",
       "0  https://www.investing.com/news/stock-market-ne...  Dec 20, 2023  \\\n",
       "1  https://www.investing.com/news/stock-market-ne...  Dec 21, 2023   \n",
       "2  https://www.investing.com/news/stock-market-ne...  Dec 21, 2023   \n",
       "3  https://www.investing.com/analysis/msft-breaki...          None   \n",
       "4  https://www.investing.com/analysis/msft-contin...          None   \n",
       "\n",
       "                                                Text  \n",
       "0  By Blake Brittain (Reuters) - A group of 11 no...  \n",
       "1  (Reuters) - Microsoft (NASDAQ:MSFT) on Thursda...  \n",
       "2  By Akash Sriram (Reuters) -  Microsoft Corp  (...  \n",
       "3  MSFTIn a previous piece, I posted an analysis ...  \n",
       "4  Microsoft (NASDAQ:MSFT) is up almost 2% today ...  "
      ]
     },
     "metadata": {},
     "output_type": "display_data"
    }
   ],
   "source": [
    "# Extract Links\n",
    "msft_links = get_stock_links(\"msft\", limit = 100)\n",
    "print(\"Number of Articles:\", len(msft_links))\n",
    "display(msft_links[:5])\n",
    "\n",
    "# Extract Text\n",
    "msft_text = get_article_texts(msft_links, tracker=False)\n",
    "display(msft_text[:5])\n",
    "\n",
    "# Store Data in Dataframe\n",
    "msft_text = np.array(msft_text)\n",
    "msft_data_dict = {\n",
    "    \"Link\": msft_links,\n",
    "    \"Date\": msft_text[:,1],\n",
    "    \"Text\": msft_text[:,0]\n",
    "}\n",
    "msft_data = pd.DataFrame(msft_data_dict)\n",
    "display(msft_data.head())"
   ]
  }
 ],
 "metadata": {
  "kernelspec": {
   "display_name": "CSCN8010_classic_ml",
   "language": "python",
   "name": "python3"
  },
  "language_info": {
   "codemirror_mode": {
    "name": "ipython",
    "version": 3
   },
   "file_extension": ".py",
   "mimetype": "text/x-python",
   "name": "python",
   "nbconvert_exporter": "python",
   "pygments_lexer": "ipython3",
   "version": "3.11.7"
  }
 },
 "nbformat": 4,
 "nbformat_minor": 2
}
