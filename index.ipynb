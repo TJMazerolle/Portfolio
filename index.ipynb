{
 "cells": [
  {
   "cell_type": "markdown",
   "metadata": {},
   "source": [
    "# <div style=\"text-align: center;\">Troy Mazerolle</div>\n",
    "<div style=\"text-align: center;\">519-722-7202</div>\n",
    "<div style=\"text-align: center;\">tjmazerolle@outlook.com</div>\n",
    "<div style=\"text-align: center;\">Waterloo, Ontario</div>"
   ]
  },
  {
   "cell_type": "markdown",
   "metadata": {},
   "source": [
    "## Introduction\n",
    "\n",
    "My name is Troy Mazerolle, and I am a University of Waterloo graduate holding a Bachelor's Degree in Economics with a specialization in Econometrics and a minor degree in Mathematics. Currently, I am advancing my expertise by pursuing a Graduate Certificate in Applied Artificial Intelligence and Machine Learning at Conestoga College, with a planned four-month co-op term commencing in May 2024. I am actively seeking a placement for this co-op term to apply and enhance my academic foundation in a practical setting.\n",
    "\n",
    "I am a dynamic and results-driven data science enthusiast with a solid academic background in Artificial Intelligence and Econometrics, and hands-on experience in statistical analysis, machine learning, and data visualization. I am seeking a challenging role in data science or actuarial science where I can leverage my analytical skills, programming proficiency in Python and R, and passion for transforming complex data sets into actionable insights. I am eager to contribute to a dynamic team to apply cutting-edge data science techniques to problems and drive impactful solutions in a collaborative and innovative environment.\n",
    "\n",
    "In addition to my regular studies next semester, I will also be studying for the actuarial exam P and exam FM tests so that by May I will have two actuarial exams completed.  While I am open to more than actuarial positions, I am taking the exams because I believe that going through the actuarial qualification process will help inform my statistical and risk management decision making, regardless if I end up with an actuarial posiition.\n",
    "\n",
    "Below are more details that speak to my qualifications and abilities. Under **Job Information** you can find my resumé and transcripts, and under **Portfolio** you can find some examples of projects that I have completed and which areas of expertise each project demonstrates."
   ]
  },
  {
   "cell_type": "markdown",
   "metadata": {},
   "source": [
    "## Job Information\n",
    "\n",
    "* [LinkedIn](https://www.linkedin.com/in/troy-mazerolle/)\n",
    "* [Resumé](https://tjmazerolle.github.io/Portfolio/resume.pdf)\n",
    "* [Conestoga College Transcript](https://tjmazerolle.github.io/Portfolio/TranscriptConestoga.pdf)\n",
    "* [University of Waterloo Transcript](https://tjmazerolle.github.io/Portfolio/TranscriptWaterloo.pdf)\n",
    "* [Tri-Council Policy Statement - Ethical Conduct for Research Involving Humans Certificate](https://tjmazerolle.github.io/Portfolio/TCPSCertificate.pdf)"
   ]
  },
  {
   "cell_type": "markdown",
   "metadata": {},
   "source": [
    "## Portfolio\n",
    "\n",
    "* [Using VGG16 to Classify Audio Genres using Spectrograms](https://www.kaggle.com/code/troymazerolle/using-vgg16-to-classify-spectrograms/notebook)\n",
    "  * Demonstrates:\n",
    "    * Neural Networks\n",
    "    * Image Classification\n",
    "  * *Note: The link will bring you to the Kaggle notebook for this analysis.*<br><br>\n",
    "\n",
    "* [Webscrapping from investing.com](https://tjmazerolle.github.io/Portfolio/WebscrappingShowcase)\n",
    "  * Demonstrates:\n",
    "    * Webscrapping with Selenium\n",
    "    * Webscrapping with BeautifulSoup\n",
    "  * *Note: While the code above works well as presented, there are still a lot of areas for improvement*<br><br>\n",
    "\n",
    "* [Chatbot for Animal Information](https://tjmazerolle.github.io/Portfolio/AnimalChatbot)\n",
    "  * Demonstrates:\n",
    "    * Webscrapping with BeautifulSoup\n",
    "    * Natural Language Processing\n",
    "      * Language preprocessing\n",
    "      * TF-IDF Methods\n",
    "  * *Note: This notebook is meant more to demonstrate NLP techniques than to make a functional chatbot.  The chatbot itself is not very strong (for now).*<br><br>\n",
    "\n",
    "* [Outlier Detection using Mahalanobis Distance](https://tjmazerolle.github.io/Portfolio/MahalanobisDistance)\n",
    "  * Demonstrates:\n",
    "    * Outlier Detection<br><br>"
   ]
  }
 ],
 "metadata": {
  "kernelspec": {
   "display_name": "CSCN8010_classic_ml",
   "language": "python",
   "name": "python3"
  },
  "language_info": {
   "name": "python",
   "version": "3.11.7"
  }
 },
 "nbformat": 4,
 "nbformat_minor": 2
}
