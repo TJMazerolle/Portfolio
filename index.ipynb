{
 "cells": [
  {
   "cell_type": "markdown",
   "metadata": {},
   "source": [
    "# Portfolio of Troy Mazerolle"
   ]
  },
  {
   "cell_type": "markdown",
   "metadata": {},
   "source": [
    "## Job Information\n",
    "\n",
    "* [LinkedIn](https://www.linkedin.com/in/troy-mazerolle/)\n",
    "* [Resumé](https://tjmazerolle.github.io/Portfolio/resume.pdf)\n",
    "* [Conestoga College Transcript](https://tjmazerolle.github.io/Portfolio/TranscriptConestoga.pdf)"
   ]
  },
  {
   "cell_type": "markdown",
   "metadata": {},
   "source": [
    "## Portfolio\n",
    "\n",
    "* [Using VGG16 to Classify Audio Genres using Spectrograms](https://www.kaggle.com/code/troymazerolle/using-vgg16-to-classify-spectrograms/notebook)\n",
    "  * Demonstrates:\n",
    "    * Neural Networks\n",
    "    * Image Classification\n",
    "\n",
    "* [Webscrapping from investing.com](https://tjmazerolle.github.io/Portfolio/WebscrappingShowcase)\n",
    "  * Demonstrates:\n",
    "    * Webscrapping with Selenium\n",
    "    * Webscrapping with BeautifulSoup"
   ]
  }
 ],
 "metadata": {
  "language_info": {
   "name": "python"
  }
 },
 "nbformat": 4,
 "nbformat_minor": 2
}
