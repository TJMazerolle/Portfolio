{
 "cells": [
  {
   "cell_type": "markdown",
   "metadata": {},
   "source": [
    "# <div style=\"text-align: center;\">Troy Mazerolle</div>\n",
    "<div style=\"text-align: center;\">519-722-7202</div>\n",
    "<div style=\"text-align: center;\">tjmazerolle@outlook.com</div>\n",
    "<div style=\"text-align: center;\">Waterloo, Ontario</div>"
   ]
  },
  {
   "cell_type": "markdown",
   "metadata": {},
   "source": [
    "## **Objective**\n",
    "Passionate and experienced Data Scientist with a strong background in statistical and machine learning techniques, including NLP, seeking to contribute expertise in building and fine-tuning machine learning models, conducting insightful data analysis, and collaborating with business stakeholders to drive informed decision-making in a dynamic and growth-focused environment."
   ]
  },
  {
   "cell_type": "markdown",
   "metadata": {},
   "source": [
    "## **Education**\n",
    "**Applied Artificial Intelligence and Machine Learning**<br>\n",
    "Conestoga College, Waterloo<br>\n",
    "Sep 2023 - Apr 2024\n",
    "* 93% grade average among all courses\n",
    "* 97% grade average among programming courses<br><br>\n",
    "\n",
    "\n",
    "**Bachelor of Economics, Minor in Mathematics**<br>\n",
    "University of Waterloo, Waterloo<br>\n",
    "Sep 2017 - Apr 2022\n",
    "* Specialization in Econometrics\n",
    "* 84% grade average among economics courses\n",
    "* 80% grade average among statistics and econometrics courses"
   ]
  }
 ],
 "metadata": {
  "language_info": {
   "name": "python"
  }
 },
 "nbformat": 4,
 "nbformat_minor": 2
}
